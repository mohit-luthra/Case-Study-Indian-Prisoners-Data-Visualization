{
 "cells": [
  {
   "cell_type": "markdown",
   "id": "44ada822-af5e-43a8-91a2-7f63396b9d71",
   "metadata": {},
   "source": [
    "# Data Analysis of Indian Prisoners in Foreign Jails"
   ]
  },
  {
   "cell_type": "markdown",
   "id": "d8c869cf-7495-4e9d-93b4-291480097bb6",
   "metadata": {},
   "source": [
    "### Load and Preprocess the Data"
   ]
  },
  {
   "cell_type": "code",
   "execution_count": 6,
   "id": "5aebf853-b67e-45e9-a772-daaae976a590",
   "metadata": {},
   "outputs": [
    {
     "name": "stdout",
     "output_type": "stream",
     "text": [
      "Total Countries in Dataset: 86\n",
      "Top 10 Countries with Most Indian Prisoners:\n",
      "            Country  Indian Prisoners\n",
      "67    Saudi Arabia              2633\n",
      "79             UAE              2518\n",
      "56           Nepal              1317\n",
      "63           Qatar               611\n",
      "40          Kuwait               387\n",
      "47        Malaysia               338\n",
      "81  United Kingdom               288\n",
      "60        Pakistan               266\n",
      "6          Bahrain               181\n",
      "15           China               173\n"
     ]
    }
   ],
   "source": [
    "import pandas as pd\n",
    "import matplotlib.pyplot as plt\n",
    "import seaborn as sns\n",
    "import plotly.express as px\n",
    "from matplotlib.ticker import FuncFormatter\n",
    "\n",
    "# Load the dataset\n",
    "data = pd.read_excel(\"Indian_Prisoners.xlsx\")  \n",
    "# Rename columns for easier access\n",
    "data.columns = [\"Country\", \"Indian Prisoners\"]\n",
    "\n",
    "# Sort by number of prisoners\n",
    "data = data.sort_values(by=\"Indian Prisoners\", ascending=False)\n",
    "\n",
    "# Get the top 10 countries\n",
    "top_10 = data.head(10)\n",
    "\n",
    "# Print summary insights\n",
    "print(\"Total Countries in Dataset:\", data.shape[0])\n",
    "print(\"Top 10 Countries with Most Indian Prisoners:\\n\", top_10)\n"
   ]
  },
  {
   "cell_type": "markdown",
   "id": "d21a4a0e-3c03-4892-bfd8-eb2a5540f435",
   "metadata": {},
   "source": [
    "### Top 10 Countries with Most Indian Prisoners:"
   ]
  },
  {
   "cell_type": "code",
   "execution_count": 7,
   "id": "0fc47a47-1938-4071-8c6f-6bb8f52898e4",
   "metadata": {},
   "outputs": [
    {
     "name": "stdout",
     "output_type": "stream",
     "text": [
      "Total Countries in Dataset: 8\n",
      "Top 10 Countries with Most Indian Prisoners:\n",
      "         Country  Number of Prisoners\n",
      "5           UAE                   25\n",
      "4  Saudi Arabia                   11\n",
      "2      Malaysia                    6\n",
      "1        Kuwait                    3\n",
      "0     Indonesia                    1\n",
      "3         Qatar                    1\n",
      "6           USA                    1\n",
      "7         Yemen                    1\n"
     ]
    }
   ],
   "source": [
    "# Load the dataset\n",
    "data = pd.read_excel(\"death_sentence.xlsx\") \n",
    "\n",
    "# Rename columns for easier access\n",
    "data.columns = [\"Country\", \"Number of Prisoners\"]\n",
    "\n",
    "# Sort by number of prisoners\n",
    "data = data.sort_values(by=\"Number of Prisoners\", ascending=False)\n",
    "\n",
    "# Get the top 10 countries\n",
    "top_10 = data.head(10)\n",
    "\n",
    "# Print summary insights\n",
    "print(\"Total Countries in Dataset:\", data.shape[0])\n",
    "print(\"Top 10 Countries with Most Indian Prisoners:\\n\", top_10)\n"
   ]
  },
  {
   "cell_type": "markdown",
   "id": "ca070a02-c967-42c8-b6aa-175012a0a457",
   "metadata": {},
   "source": [
    "### Total Number of Indian Prisoners"
   ]
  },
  {
   "cell_type": "code",
   "execution_count": 8,
   "id": "98b763bb-fc7f-4a01-a6a6-0945a309321e",
   "metadata": {},
   "outputs": [
    {
     "name": "stdout",
     "output_type": "stream",
     "text": [
      "Total number of Indians in foreign jails: 10152\n"
     ]
    }
   ],
   "source": [
    "import pandas as pd\n",
    "\n",
    "data = pd.read_excel(\"Indian_Prisoners.xlsx\")\n",
    "\n",
    "data.columns = [\"Country\", \"Indian Prisoners\"]\n",
    "total_prisoners = data[\"Indian Prisoners\"].sum()\n",
    "print(\"Total number of Indians in foreign jails:\", total_prisoners)\n",
    "\n"
   ]
  },
  {
   "cell_type": "markdown",
   "id": "85902582-e700-4493-82ca-0ff87986297c",
   "metadata": {},
   "source": [
    "### Top 10 Countries by Percentage Contribution"
   ]
  },
  {
   "cell_type": "code",
   "execution_count": 9,
   "id": "54af80be-b311-4370-bda3-d83eba6f08c3",
   "metadata": {},
   "outputs": [
    {
     "name": "stdout",
     "output_type": "stream",
     "text": [
      "Top 10 Countries by Percentage of Indian Prisoners:\n",
      "            Country  Percentage\n",
      "67    Saudi Arabia   25.935776\n",
      "79             UAE   24.802994\n",
      "56           Nepal   12.972813\n",
      "63           Qatar    6.018519\n",
      "40          Kuwait    3.812057\n",
      "47        Malaysia    3.329393\n",
      "81  United Kingdom    2.836879\n",
      "60        Pakistan    2.620173\n",
      "6          Bahrain    1.782900\n",
      "15           China    1.704098\n"
     ]
    }
   ],
   "source": [
    "# Calculate percentage contribution of each country\n",
    "data[\"Percentage\"] = (data[\"Indian Prisoners\"] / total_prisoners) * 100\n",
    "\n",
    "# Sort by percentage in descending order\n",
    "data_sorted = data.sort_values(by=\"Percentage\", ascending=False)\n",
    "\n",
    "# Get the top 10 countries by percentage\n",
    "top_10_percentage = data_sorted.head(10)\n",
    "\n",
    "# Print results\n",
    "print(\"Top 10 Countries by Percentage of Indian Prisoners:\\n\", top_10_percentage[[\"Country\", \"Percentage\"]])\n"
   ]
  },
  {
   "cell_type": "code",
   "execution_count": 10,
   "id": "9e136b15-d794-4037-80fb-b78c803dcdf6",
   "metadata": {},
   "outputs": [
    {
     "name": "stdout",
     "output_type": "stream",
     "text": [
      "Descriptive Statistics of Indian Prisoners:\n",
      " count      86.000000\n",
      "mean      118.046512\n",
      "std       417.013723\n",
      "min         1.000000\n",
      "25%         2.250000\n",
      "50%         6.000000\n",
      "75%        32.500000\n",
      "max      2633.000000\n",
      "Name: Indian Prisoners, dtype: float64\n"
     ]
    }
   ],
   "source": [
    "print(\"Descriptive Statistics of Indian Prisoners:\\n\", data[\"Indian Prisoners\"].describe())\n"
   ]
  },
  {
   "cell_type": "markdown",
   "id": "19b91321-be39-42b6-849e-bb3111d2b71a",
   "metadata": {},
   "source": [
    "### Countries with More than 50 Indian Prisoners"
   ]
  },
  {
   "cell_type": "code",
   "execution_count": 11,
   "id": "70f43ddb-d9f6-4b8c-9c0a-a06de7121193",
   "metadata": {},
   "outputs": [
    {
     "name": "stdout",
     "output_type": "stream",
     "text": [
      "Countries with More than 50 Indian Prisoners:\n",
      "            Country  Indian Prisoners  Percentage\n",
      "6          Bahrain               181    1.782900\n",
      "10          Bhutan                69    0.679669\n",
      "15           China               173    1.704098\n",
      "34           Italy               168    1.654846\n",
      "40          Kuwait               387    3.812057\n",
      "47        Malaysia               338    3.329393\n",
      "56           Nepal              1317   12.972813\n",
      "59            Oman               148    1.457841\n",
      "60        Pakistan               266    2.620173\n",
      "63           Qatar               611    6.018519\n",
      "67    Saudi Arabia              2633   25.935776\n",
      "70       Singapore                92    0.906225\n",
      "73       Sri Lanka                98    0.965327\n",
      "79             UAE              2518   24.802994\n",
      "81  United Kingdom               288    2.836879\n",
      "82             USA               169    1.664697\n"
     ]
    }
   ],
   "source": [
    "high_prisoners = data[data[\"Indian Prisoners\"] > 50]\n",
    "print(\"Countries with More than 50 Indian Prisoners:\\n\", high_prisoners)\n"
   ]
  },
  {
   "cell_type": "markdown",
   "id": "72aaf15f-3ff5-41db-ad65-c58313a96a10",
   "metadata": {},
   "source": [
    "### Countries with Less than 5 Indian Prisoners"
   ]
  },
  {
   "cell_type": "code",
   "execution_count": 12,
   "id": "5dd89123-b20d-44f5-973c-62272cc5f03f",
   "metadata": {},
   "outputs": [
    {
     "name": "stdout",
     "output_type": "stream",
     "text": [
      "Countries with Less than 5 Indian Prisoners:\n",
      "                 Country  Indian Prisoners  Percentage\n",
      "1                Angola                 2    0.019701\n",
      "2             Argentina                 1    0.009850\n",
      "7            Bangladesh                 4    0.039401\n",
      "9               Belgium                 1    0.009850\n",
      "14                Chile                 1    0.009850\n",
      "18              Croatia                 3    0.029551\n",
      "19                 Cuba                 2    0.019701\n",
      "21              Denmark                 1    0.009850\n",
      "22                Egypt                 1    0.009850\n",
      "23             Ethiopia                 4    0.039401\n",
      "27            Guatemala                 2    0.019701\n",
      "28               Guinea                 2    0.019701\n",
      "31                 Iraq                 1    0.009850\n",
      "33               Israel                 4    0.039401\n",
      "35              Jamaica                 1    0.009850\n",
      "38           Kazakhstan                 3    0.029551\n",
      "39                Kenya                 4    0.039401\n",
      "41           Kyrgyzstan                 4    0.039401\n",
      "43              Lebanon                 2    0.019701\n",
      "44            Lithuania                 1    0.009850\n",
      "45           Madagascar                 1    0.009850\n",
      "46               Malawi                 1    0.009850\n",
      "49                 Mali                 1    0.009850\n",
      "52               Mexico                 1    0.009850\n",
      "53              Morocco                 2    0.019701\n",
      "57              Nigeria                 3    0.029551\n",
      "64    Republic of Korea                 4    0.039401\n",
      "66               Rwanda                 3    0.029551\n",
      "69               Serbia                 4    0.039401\n",
      "74          Switzerland                 1    0.009850\n",
      "75           Tajikistan                 1    0.009850\n",
      "77  Trinidad and Tobago                 1    0.009850\n",
      "78              Turkiye                 3    0.029551\n",
      "83           Uzbekistan                 3    0.029551\n",
      "84              Vietnam                 4    0.039401\n",
      "85             Zimbabwe                 1    0.009850\n"
     ]
    }
   ],
   "source": [
    "low_prisoners = data[data[\"Indian Prisoners\"] < 5]\n",
    "print(\"Countries with Less than 5 Indian Prisoners:\\n\", low_prisoners)\n",
    "\n"
   ]
  }
 ],
 "metadata": {
  "kernelspec": {
   "display_name": "Python 3 (ipykernel)",
   "language": "python",
   "name": "python3"
  },
  "language_info": {
   "codemirror_mode": {
    "name": "ipython",
    "version": 3
   },
   "file_extension": ".py",
   "mimetype": "text/x-python",
   "name": "python",
   "nbconvert_exporter": "python",
   "pygments_lexer": "ipython3",
   "version": "3.11.5"
  }
 },
 "nbformat": 4,
 "nbformat_minor": 5
}
